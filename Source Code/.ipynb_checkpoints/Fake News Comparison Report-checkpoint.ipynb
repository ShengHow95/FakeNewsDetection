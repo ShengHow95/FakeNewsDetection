{
 "cells": [
  {
   "cell_type": "markdown",
   "metadata": {},
   "source": [
    "# Comparison between TFIDF and Sequence Method"
   ]
  },
  {
   "cell_type": "code",
   "execution_count": 1,
   "metadata": {},
   "outputs": [],
   "source": [
    "import json\n",
    "import numpy as np\n",
    "import matplotlib.pyplot as plt"
   ]
  },
  {
   "cell_type": "markdown",
   "metadata": {},
   "source": [
    "### Data Import"
   ]
  },
  {
   "cell_type": "code",
   "execution_count": 2,
   "metadata": {},
   "outputs": [],
   "source": [
    "with open('Model_TFIDF_Title.json', 'r') as Model_TFIDF_File:\n",
    "    tfidf_model_title = json.load(Model_TFIDF_File)\n",
    "    \n",
    "with open('Model_TFIDF_Content.json', 'r') as Model_TFIDF_File:\n",
    "    tfidf_model_content = json.load(Model_TFIDF_File)\n",
    "    \n",
    "with open('Model_Sequence_Title.json', 'r') as Model_Sequence_File:\n",
    "    sequence_model_title = json.load(Model_Sequence_File)\n",
    "\n",
    "with open('Model_Sequence_Content.json', 'r') as Model_Sequence_File:\n",
    "    sequence_model_content = json.load(Model_Sequence_File)"
   ]
  },
  {
   "cell_type": "code",
   "execution_count": 3,
   "metadata": {},
   "outputs": [
    {
     "data": {
      "text/plain": [
       "{'Title_Accuracy': '0.7786843',\n",
       " 'Title_Recall': '0.8755102',\n",
       " 'Content_Accuracy': '0.8969913',\n",
       " 'Content_Recall': '0.98163265',\n",
       " 'Time': '76.78582525253296'}"
      ]
     },
     "execution_count": 3,
     "metadata": {},
     "output_type": "execute_result"
    }
   ],
   "source": [
    "tfidf_model_performance"
   ]
  },
  {
   "cell_type": "code",
   "execution_count": 4,
   "metadata": {},
   "outputs": [
    {
     "data": {
      "text/plain": [
       "{'Title_Accuracy': '0.7491076',\n",
       " 'Title_Recall': '0.9153493',\n",
       " 'Content_Accuracy': '0.8954615',\n",
       " 'Content_Recall': '0.9551249',\n",
       " 'Time': '70.1442940235138'}"
      ]
     },
     "execution_count": 4,
     "metadata": {},
     "output_type": "execute_result"
    }
   ],
   "source": [
    "sequence_model_performance"
   ]
  },
  {
   "cell_type": "code",
   "execution_count": 5,
   "metadata": {},
   "outputs": [],
   "source": [
    "Time = []\n",
    "Accuracy = []\n",
    "Recall = []\n",
    "Accuracy_tfidf = []\n",
    "Recall_tfidf = []\n",
    "Accuracy_sequence = []\n",
    "Recall_sequence = []\n",
    "\n",
    "for metric, value in  tfidf_model_performance.items():\n",
    "    if 'Accuracy' in metric:\n",
    "        Accuracy.append(metric)\n",
    "        Accuracy_tfidf.append(float(value)*100)\n",
    "    elif 'Recall' in metric:\n",
    "        Recall.append(metric)\n",
    "        Recall_tfidf.append(float(value)*100)\n",
    "    else:\n",
    "        Time.append(float(value))\n",
    "    \n",
    "for metric, value in  sequence_model_performance.items():\n",
    "    if 'Accuracy' in metric:\n",
    "        Accuracy_sequence.append(float(value)*100)\n",
    "    elif 'Recall' in metric:\n",
    "        Recall_sequence.append(float(value)*100)\n",
    "    else:\n",
    "        Time.append(float(value))"
   ]
  },
  {
   "cell_type": "markdown",
   "metadata": {},
   "source": [
    "### Accuracy Comparison"
   ]
  },
  {
   "cell_type": "code",
   "execution_count": 6,
   "metadata": {},
   "outputs": [
    {
     "data": {
      "image/png": "[encoded data removed]",
      "text/plain": [
       "<Figure size 360x360 with 1 Axes>"
      ]
     },
     "metadata": {
      "needs_background": "light"
     },
     "output_type": "display_data"
    }
   ],
   "source": [
    "# create plot\n",
    "fig, ax = plt.subplots(figsize=[5,5])\n",
    "index = np.arange(2)\n",
    "bar_width = 0.35\n",
    "opacity = 0.8\n",
    "\n",
    "bar_tfidf = plt.bar(index, Accuracy_tfidf, bar_width, alpha=opacity, color='b', label='TFIDF')\n",
    "\n",
    "bar_sequence = plt.bar(index + bar_width, Accuracy_sequence, bar_width, alpha=opacity, color='g', label='Seqeunce')\n",
    "\n",
    "plt.xlabel('Train Data')\n",
    "plt.xticks(index + bar_width/2, ('Title', 'Content'))\n",
    "\n",
    "plt.ylabel('Performance (%)')\n",
    "plt.ylim(70,100)\n",
    "\n",
    "plt.title('Accuracy Comparison')\n",
    "plt.legend()\n",
    "\n",
    "for i in range(2):\n",
    "    ax.text(i - bar_width/3, Accuracy_tfidf[i] + 0.5, \"%.1f%%\" % Accuracy_tfidf[i], fontsize=12)\n",
    "    ax.text(i + bar_width*2/3, Accuracy_sequence[i] + 0.5, \"%.1f%%\" % Accuracy_sequence[i], fontsize=12)\n",
    "\n",
    "plt.show()"
   ]
  },
  {
   "cell_type": "markdown",
   "metadata": {},
   "source": [
    "### Recall Comparison"
   ]
  },
  {
   "cell_type": "code",
   "execution_count": 7,
   "metadata": {},
   "outputs": [
    {
     "data": {
      "image/png": "[encoded data removed]",
      "text/plain": [
       "<Figure size 360x360 with 1 Axes>"
      ]
     },
     "metadata": {
      "needs_background": "light"
     },
     "output_type": "display_data"
    }
   ],
   "source": [
    "# create plot\n",
    "fig, ax = plt.subplots(figsize=[5,5])\n",
    "index = np.arange(2)\n",
    "bar_width = 0.35\n",
    "opacity = 0.8\n",
    "\n",
    "bar_tfidf = plt.bar(index, Recall_tfidf, bar_width, alpha=opacity, color='b', label='TFIDF')\n",
    "\n",
    "bar_sequence = plt.bar(index + bar_width, Recall_sequence, bar_width, alpha=opacity, color='g', label='Seqeunce')\n",
    "\n",
    "plt.xlabel('Training Data')\n",
    "plt.xticks(index + bar_width/2, ('Title', 'Content'))\n",
    "\n",
    "plt.ylabel('Performance (%)')\n",
    "plt.ylim(80,105)\n",
    "\n",
    "plt.title('Recall Comparison')\n",
    "plt.legend()\n",
    "\n",
    "for i in range(2):\n",
    "    ax.text(i - bar_width/3, Recall_tfidf[i] + 0.5, \"%.1f%%\" % Recall_tfidf[i], fontsize=12)\n",
    "    ax.text(i + bar_width*2/3, Recall_sequence[i] + 0.5, \"%.1f%%\" % Recall_sequence[i], fontsize=12)\n",
    "\n",
    "plt.show()"
   ]
  },
  {
   "cell_type": "code",
   "execution_count": 21,
   "metadata": {},
   "outputs": [
    {
     "data": {
      "image/png": "[encoded data removed]",
      "text/plain": [
       "<Figure size 432x288 with 1 Axes>"
      ]
     },
     "metadata": {
      "needs_background": "light"
     },
     "output_type": "display_data"
    }
   ],
   "source": [
    "x_labels = ['TFIDF', 'Sequence']\n",
    "y_values = [Time[0], Time[1]]\n",
    "\n",
    "fig, ax = plt.subplots() \n",
    "\n",
    "plt.bar(x_labels, y_values, align='center', width = 0.75, color=['blue','green'])\n",
    "plt.xlabel('Vectorization Method')\n",
    "plt.ylabel('Time (s)')\n",
    "plt.ylim((50, 80))\n",
    "plt.title('Computational Time')\n",
    "\n",
    "for i, v in enumerate(x_labels):\n",
    "    ax.text(i-0.125, y_values[i] + 1, \"%.1f\"%y_values[i], fontsize=14)\n",
    "\n",
    "plt.show()"
   ]
  },
  {
   "cell_type": "code",
   "execution_count": null,
   "metadata": {},
   "outputs": [],
   "source": []
  }
 ],
 "metadata": {
  "kernelspec": {
   "display_name": "Python 3",
   "language": "python",
   "name": "python3"
  },
  "language_info": {
   "codemirror_mode": {
    "name": "ipython",
    "version": 3
   },
   "file_extension": ".py",
   "mimetype": "text/x-python",
   "name": "python",
   "nbconvert_exporter": "python",
   "pygments_lexer": "ipython3",
   "version": "3.7.3"
  }
 },
 "nbformat": 4,
 "nbformat_minor": 2
}
